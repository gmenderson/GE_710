{
 "cells": [
  {
   "cell_type": "code",
   "execution_count": 1,
   "metadata": {},
   "outputs": [],
   "source": [
    "import os\n",
    "import pandas as pd\n",
    "import json\n",
    "\n",
    "df_base_codellama1 = pd.read_csv('/home/grenders95/710/710_project/data/eval/inference/base_codellama_inference_run1.csv')\n",
    "df_base_codellama2 = pd.read_csv('/home/grenders95/710/710_project/data/eval/inference/base_codellama_inference_run2.csv')\n"
   ]
  },
  {
   "cell_type": "code",
   "execution_count": 2,
   "metadata": {},
   "outputs": [
    {
     "name": "stdout",
     "output_type": "stream",
     "text": [
      "org_repo_name           object\n",
      "requirements            object\n",
      "sbom                    object\n",
      "mod_manifest_newreqs    object\n",
      "num_dependencies         int64\n",
      "sbom_data_cleared       object\n",
      "__index_level_0__        int64\n",
      "generated_sbom          object\n",
      "dtype: object\n"
     ]
    }
   ],
   "source": [
    "print(df_base_codellama1.dtypes)"
   ]
  },
  {
   "cell_type": "code",
   "execution_count": 3,
   "metadata": {},
   "outputs": [
    {
     "name": "stdout",
     "output_type": "stream",
     "text": [
      "           org_repo_name                                       requirements  \\\n",
      "0      johannfaouzi_pyts  numpy>=1.22.4\\nscipy>=1.8.1\\nscikit-learn>1.2....   \n",
      "1        brainix_pottery  async-timeout==4.0.3\\nAuthlib==1.3.0\\nbandit==...   \n",
      "2  Doubiiu_DynamiCrafter  decord==0.6.0\\neinops==0.3.0\\nimageio==2.9.0\\n...   \n",
      "3     huawei-noah_smarts  absl-py==2.1.0\\naiosignal==1.3.1\\nastunparse==...   \n",
      "4       xonshiz_comic-dl  tqdm\\nbs4\\nrequests\\nclint\\nimg2pdf\\nfuture\\nc...   \n",
      "\n",
      "                                                sbom  \\\n",
      "0  {\\n  \"SPDXID\": \"SPDXRef-DOCUMENT\",\\n  \"spdxVer...   \n",
      "1  {\\n  \"SPDXID\": \"SPDXRef-DOCUMENT\",\\n  \"spdxVer...   \n",
      "2  {\\n  \"SPDXID\": \"SPDXRef-DOCUMENT\",\\n  \"spdxVer...   \n",
      "3  {\\n  \"SPDXID\": \"SPDXRef-DOCUMENT\",\\n  \"spdxVer...   \n",
      "4  {\\n  \"SPDXID\": \"SPDXRef-DOCUMENT\",\\n  \"spdxVer...   \n",
      "\n",
      "                                mod_manifest_newreqs  num_dependencies  \\\n",
      "0  Org: johannfaouzi\\nRepo: pyts\\ndownloadLocatio...                 5   \n",
      "1  Org: brainix\\nRepo: pottery\\ndownloadLocation:...                64   \n",
      "2  Org: Doubiiu\\nRepo: DynamiCrafter\\ndownloadLoc...                23   \n",
      "3  Org: huawei-noah\\nRepo: smarts\\ndownloadLocati...               112   \n",
      "4  Org: xonshiz\\nRepo: comic-dl\\ndownloadLocation...                 9   \n",
      "\n",
      "                                   sbom_data_cleared  __index_level_0__  \\\n",
      "0  {\"SPDXID\": \"\", \"spdxVersion\": \"\", \"creationInf...                831   \n",
      "1  {\"SPDXID\": \"\", \"spdxVersion\": \"\", \"creationInf...                124   \n",
      "2  {\"SPDXID\": \"\", \"spdxVersion\": \"\", \"creationInf...               1431   \n",
      "3  {\"SPDXID\": \"\", \"spdxVersion\": \"\", \"creationInf...               1613   \n",
      "4  {\"SPDXID\": \"\", \"spdxVersion\": \"\", \"creationInf...                700   \n",
      "\n",
      "                                      generated_sbom  \\\n",
      "0  [INST] Given a target manifest file, construct...   \n",
      "1  [INST] Given a target manifest file, construct...   \n",
      "2  [INST] Given a target manifest file, construct...   \n",
      "3  [INST] Given a target manifest file, construct...   \n",
      "4  [INST] Given a target manifest file, construct...   \n",
      "\n",
      "                                     generated_sbom2  \n",
      "0  [INST] Given a target manifest file, construct...  \n",
      "1  [INST] Given a target manifest file, construct...  \n",
      "2  [INST] Given a target manifest file, construct...  \n",
      "3  [INST] Given a target manifest file, construct...  \n",
      "4  [INST] Given a target manifest file, construct...  \n"
     ]
    }
   ],
   "source": [
    "import pandas as pd\n",
    "\n",
    "df_base_codellama2.rename(columns={'generated_sbom': 'generated_sbom2'}, inplace=True)\n",
    "\n",
    "df_base_codellama = pd.concat([df_base_codellama1, df_base_codellama2['generated_sbom2']], axis=1)\n",
    "\n",
    "print(df_base_codellama.head())\n"
   ]
  },
  {
   "cell_type": "code",
   "execution_count": 4,
   "metadata": {},
   "outputs": [
    {
     "name": "stderr",
     "output_type": "stream",
     "text": [
      "/tmp/ipykernel_559271/959166008.py:24: FutureWarning: DataFrame.applymap has been deprecated. Use DataFrame.map instead.\n",
      "  df_base_llama2[['gen_sbom_noprompt', 'gen_sbom2_noprompt']] = df_base_llama2[['generated_sbom', 'generated_sbom2']].applymap(extract_json_sbom)\n"
     ]
    }
   ],
   "source": [
    "def extract_json_sbom(row):\n",
    "    # Check if the input is a string\n",
    "    if isinstance(row, str):\n",
    "        # Splitting the text at the [/INST] marker\n",
    "        split_text = row.split('[/INST]')\n",
    "        # Ensure there is content after the first [/INST] and it starts with a '{'\n",
    "        if len(split_text) > 1:\n",
    "            # Check for '###' in the remainder and limit extraction to before '###'\n",
    "            post_inst_content = split_text[1].strip()\n",
    "            hash_pos = post_inst_content.find('###')\n",
    "\n",
    "            # If '###' is found, adjust the post_inst_content to end before '###'\n",
    "            if hash_pos != -1:\n",
    "                post_inst_content = post_inst_content[:hash_pos].strip()\n",
    "\n",
    "            # Now, check if the adjusted content starts with '{'\n",
    "            if post_inst_content.startswith('{'):\n",
    "                return post_inst_content\n",
    "    # Default case if conditions are not met\n",
    "    return 'JSON structure not found'\n",
    "\n",
    "df_base_codellama[['gen_sbom_noprompt', 'gen_sbom2_noprompt']] = df_base_codellama[['generated_sbom', 'generated_sbom2']].applymap(extract_json_sbom)\n"
   ]
  },
  {
   "cell_type": "code",
   "execution_count": 5,
   "metadata": {},
   "outputs": [
    {
     "name": "stdout",
     "output_type": "stream",
     "text": [
      "Number of rows with 'JSON structure not found': 532\n"
     ]
    }
   ],
   "source": [
    "not_found_count = (df_base_codellama['gen_sbom_noprompt'] == 'JSON structure not found').sum()\n",
    "\n",
    "print(f\"Number of rows with 'JSON structure not found': {not_found_count}\")"
   ]
  },
  {
   "cell_type": "code",
   "execution_count": 10,
   "metadata": {},
   "outputs": [
    {
     "name": "stdout",
     "output_type": "stream",
     "text": [
      "[INST] Given a target manifest file, construct the corresponding SPDX SBOM in .json format.\n",
      "\n",
      "### Target manifest:\n",
      "Org: generatebio\n",
      "Repo: chroma\n",
      "downloadLocation: git+https://github.com/generatebio/chroma\n",
      "licenseDeclared: Apache-2.0\n",
      "Dependancies:\n",
      "nglview==3.0.8\n",
      "numpy\n",
      "pandas\n",
      "Pillow\n",
      "pytest\n",
      "Requests\n",
      "scikit_learn==1.1.2\n",
      "scipy\n",
      "torch\n",
      "tqdm\n",
      "transformers==4.24.0\n",
      "\n",
      "\n",
      "### SPDX SBOM:\n",
      " [/INST] \n",
      "#include \"stdafx.h\"\n",
      "#include \"../include/win32/win32_window.h\"\n",
      "#include \"../include/win32/win32_input.h\"\n",
      "#include \"../include/win32/win32_renderer.h\"\n",
      "#include \"../include/win32/win32_timer.h\"\n",
      "#include \"../include/win32/win32_window.h\"\n",
      "#include \"../include/win32/win32_input.h\"\n",
      "#include \"../include/win32/win32_renderer.h\"\n",
      "#include \"../include/win32/win32_timer.h\"\n",
      "#include \"../include/win32/win32_window.h\"\n",
      "#include \"../include/win32/win32_input.h\"\n",
      "#include \"../include/win32/win32_renderer.h\"\n",
      "#include \"../include/win32/win32_timer.h\"\n",
      "#include \"../include/win32/win32_window.h\"\n",
      "#include \"../include/win32/win32_input.h\"\n",
      "#include \"../include/win32/win32_renderer.h\"\n",
      "#include \"../include/win32/win32_timer.h\"\n",
      "#include \"../include/win32/win32_window.h\"\n",
      "#include \"../include/win32/win32_input.h\"\n",
      "#include \"../include/win32/win32_renderer.h\"\n",
      "#include \"../include/win32/win32_timer.h\"\n",
      "#include \"../include/win32/win32_window.h\"\n",
      "#include \"../include/win32/win32_input.h\"\n",
      "#include \"../include/win32/win32_renderer.h\"\n",
      "#include \"../include/win32/win32_timer.h\"\n",
      "#include \"../include/win32/win32_window.h\"\n",
      "#include \"../include/win32/win32_input.h\"\n",
      "#include \"../include/win32/win32_renderer.h\"\n",
      "#include \"../include/win32/win32_timer.h\"\n",
      "#include \"../include/win32/win32_window.h\"\n",
      "#include \"../include/win32/win32_input.h\"\n",
      "#include \"../include/win32/win32_renderer.h\"\n",
      "#include \"../include/win32/win32_timer.h\"\n",
      "#include \"../include/win32/win32_window.h\"\n",
      "#include \"../include/win32/win32_input.h\"\n",
      "#include \"../include/win32/win32_renderer.h\"\n",
      "#include \"../include/win32/win32_timer.h\"\n",
      "#include \"../include/win32/win32_window.h\"\n",
      "#include \"../include/win32/win32_input.h\"\n",
      "#include \"../include/win32/win32_renderer.h\"\n",
      "#include \"../include/win32/win32_timer.h\"\n",
      "#include \"../include/win32/win32_window.h\"\n",
      "#include \"../include/win32/win32_input.h\"\n",
      "#include \"../include/win32/win32_renderer.h\"\n",
      "#include \"../include/win32/win32_timer.h\"\n",
      "#include \"../include/win32/win32_window.h\"\n",
      "#include \"../include/win32/win32_input.h\"\n",
      "#include \"../include/win32/win32_renderer.h\"\n",
      "#include \"../include/win32/win32_timer.h\"\n",
      "#include \"../include/win32/win32_window.h\"\n",
      "#include \"../include/win32/win32_input.h\"\n",
      "#include \"../include/win32/win32_renderer.h\"\n",
      "#include \"../include/win32/win32_timer.h\"\n",
      "#include \"../include/win32/win32_window.h\"\n",
      "#include \"../include/win32/win32_input.h\"\n",
      "#include \"../include/win32/win32_renderer.h\"\n",
      "#include \"../include/win32/win32_timer.h\"\n",
      "#include \"../include/win32/win32_window.h\"\n",
      "#include \"../include/win32/win32_input.h\"\n",
      "#include \"../include/win32/win32_renderer.h\"\n",
      "#include \"../include/win32/win32_timer.h\"\n",
      "#include \"../include/win32/win32_window.h\"\n",
      "#include \"../include/win32/win32_input.h\"\n",
      "#include \"../include/win32/win32_renderer.h\"\n",
      "#include \"../include/win32/win32_timer.h\"\n",
      "#include \"../include/win32/win32_window.h\"\n",
      "#include \"../include/win32/win32_input.h\"\n",
      "#include \"../include/win32/win32_renderer.h\"\n",
      "#include \"../include/win32/win32_timer.h\"\n",
      "#include \"../include/win32/win32_window.h\"\n",
      "#include \"../include/win32/win32_input.h\"\n",
      "#include \"../include/win32/win32_renderer.h\"\n",
      "#include \"\n"
     ]
    }
   ],
   "source": [
    "print(df_base_codellama.iloc[9]['generated_sbom'])"
   ]
  }
 ],
 "metadata": {
  "kernelspec": {
   "display_name": "sme_project",
   "language": "python",
   "name": "python3"
  },
  "language_info": {
   "codemirror_mode": {
    "name": "ipython",
    "version": 3
   },
   "file_extension": ".py",
   "mimetype": "text/x-python",
   "name": "python",
   "nbconvert_exporter": "python",
   "pygments_lexer": "ipython3",
   "version": "3.11.5"
  }
 },
 "nbformat": 4,
 "nbformat_minor": 2
}
