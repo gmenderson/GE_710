{
 "cells": [
  {
   "cell_type": "code",
   "execution_count": 1,
   "metadata": {},
   "outputs": [],
   "source": [
    "import os\n",
    "import pandas as pd\n",
    "import json\n",
    "\n",
    "df_base_llama2 = pd.read_csv('/home/grenders95/710/710_project/data/eval/inference/base_llama2_inference_run1.csv')\n",
    "df_base_llama22 = pd.read_csv('/home/grenders95/710/710_project/data/eval/inference/april5_base_llama2_inference_run2.csv')"
   ]
  },
  {
   "cell_type": "code",
   "execution_count": 2,
   "metadata": {},
   "outputs": [
    {
     "name": "stdout",
     "output_type": "stream",
     "text": [
      "org_repo_name           object\n",
      "requirements            object\n",
      "sbom                    object\n",
      "mod_manifest_newreqs    object\n",
      "num_dependencies         int64\n",
      "sbom_data_cleared       object\n",
      "__index_level_0__        int64\n",
      "generated_sbom          object\n",
      "dtype: object\n"
     ]
    }
   ],
   "source": [
    "print(df_base_llama2.dtypes)"
   ]
  },
  {
   "cell_type": "code",
   "execution_count": 3,
   "metadata": {},
   "outputs": [
    {
     "name": "stdout",
     "output_type": "stream",
     "text": [
      "org_repo_name           object\n",
      "requirements            object\n",
      "sbom                    object\n",
      "mod_manifest_newreqs    object\n",
      "num_dependencies         int64\n",
      "sbom_data_cleared       object\n",
      "__index_level_0__        int64\n",
      "generated_sbom          object\n",
      "dtype: object\n"
     ]
    }
   ],
   "source": [
    "print(df_base_llama22.dtypes)"
   ]
  },
  {
   "cell_type": "code",
   "execution_count": 4,
   "metadata": {},
   "outputs": [
    {
     "name": "stdout",
     "output_type": "stream",
     "text": [
      "           org_repo_name                                       requirements  \\\n",
      "0      johannfaouzi_pyts  numpy>=1.22.4\\nscipy>=1.8.1\\nscikit-learn>1.2....   \n",
      "1        brainix_pottery  async-timeout==4.0.3\\nAuthlib==1.3.0\\nbandit==...   \n",
      "2  Doubiiu_DynamiCrafter  decord==0.6.0\\neinops==0.3.0\\nimageio==2.9.0\\n...   \n",
      "3     huawei-noah_smarts  absl-py==2.1.0\\naiosignal==1.3.1\\nastunparse==...   \n",
      "4       xonshiz_comic-dl  tqdm\\nbs4\\nrequests\\nclint\\nimg2pdf\\nfuture\\nc...   \n",
      "\n",
      "                                                sbom  \\\n",
      "0  {\\n  \"SPDXID\": \"SPDXRef-DOCUMENT\",\\n  \"spdxVer...   \n",
      "1  {\\n  \"SPDXID\": \"SPDXRef-DOCUMENT\",\\n  \"spdxVer...   \n",
      "2  {\\n  \"SPDXID\": \"SPDXRef-DOCUMENT\",\\n  \"spdxVer...   \n",
      "3  {\\n  \"SPDXID\": \"SPDXRef-DOCUMENT\",\\n  \"spdxVer...   \n",
      "4  {\\n  \"SPDXID\": \"SPDXRef-DOCUMENT\",\\n  \"spdxVer...   \n",
      "\n",
      "                                mod_manifest_newreqs  num_dependencies  \\\n",
      "0  Org: johannfaouzi\\nRepo: pyts\\ndownloadLocatio...                 5   \n",
      "1  Org: brainix\\nRepo: pottery\\ndownloadLocation:...                64   \n",
      "2  Org: Doubiiu\\nRepo: DynamiCrafter\\ndownloadLoc...                23   \n",
      "3  Org: huawei-noah\\nRepo: smarts\\ndownloadLocati...               112   \n",
      "4  Org: xonshiz\\nRepo: comic-dl\\ndownloadLocation...                 9   \n",
      "\n",
      "                                   sbom_data_cleared  __index_level_0__  \\\n",
      "0  {\"SPDXID\": \"\", \"spdxVersion\": \"\", \"creationInf...                831   \n",
      "1  {\"SPDXID\": \"\", \"spdxVersion\": \"\", \"creationInf...                124   \n",
      "2  {\"SPDXID\": \"\", \"spdxVersion\": \"\", \"creationInf...               1431   \n",
      "3  {\"SPDXID\": \"\", \"spdxVersion\": \"\", \"creationInf...               1613   \n",
      "4  {\"SPDXID\": \"\", \"spdxVersion\": \"\", \"creationInf...                700   \n",
      "\n",
      "                                      generated_sbom  \\\n",
      "0  [INST] Given a target manifest file, construct...   \n",
      "1  [INST] Given a target manifest file, construct...   \n",
      "2  [INST] Given a target manifest file, construct...   \n",
      "3  [INST] Given a target manifest file, construct...   \n",
      "4  [INST] Given a target manifest file, construct...   \n",
      "\n",
      "                                     generated_sbom2  \n",
      "0  [INST] Given a target manifest file, construct...  \n",
      "1  [INST] Given a target manifest file, construct...  \n",
      "2  [INST] Given a target manifest file, construct...  \n",
      "3  [INST] Given a target manifest file, construct...  \n",
      "4  [INST] Given a target manifest file, construct...  \n"
     ]
    }
   ],
   "source": [
    "import pandas as pd\n",
    "\n",
    "df_base_llama22.rename(columns={'generated_sbom': 'generated_sbom2'}, inplace=True)\n",
    "\n",
    "df_base_llama2 = pd.concat([df_base_llama2, df_base_llama22['generated_sbom2']], axis=1)\n",
    "\n",
    "print(df_base_llama2.head())\n"
   ]
  },
  {
   "cell_type": "code",
   "execution_count": 5,
   "metadata": {},
   "outputs": [
    {
     "name": "stderr",
     "output_type": "stream",
     "text": [
      "/tmp/ipykernel_559213/959166008.py:24: FutureWarning: DataFrame.applymap has been deprecated. Use DataFrame.map instead.\n",
      "  df_base_llama2[['gen_sbom_noprompt', 'gen_sbom2_noprompt']] = df_base_llama2[['generated_sbom', 'generated_sbom2']].applymap(extract_json_sbom)\n"
     ]
    }
   ],
   "source": [
    "def extract_json_sbom(row):\n",
    "    # Check if the input is a string\n",
    "    if isinstance(row, str):\n",
    "        # Splitting the text at the [/INST] marker\n",
    "        split_text = row.split('[/INST]')\n",
    "        # Ensure there is content after the first [/INST] and it starts with a '{'\n",
    "        if len(split_text) > 1:\n",
    "            # Check for '###' in the remainder and limit extraction to before '###'\n",
    "            post_inst_content = split_text[1].strip()\n",
    "            hash_pos = post_inst_content.find('###')\n",
    "\n",
    "            # If '###' is found, adjust the post_inst_content to end before '###'\n",
    "            if hash_pos != -1:\n",
    "                post_inst_content = post_inst_content[:hash_pos].strip()\n",
    "\n",
    "            # Now, check if the adjusted content starts with '{'\n",
    "            if post_inst_content.startswith('{'):\n",
    "                return post_inst_content\n",
    "    # Default case if conditions are not met\n",
    "    return 'JSON structure not found'\n",
    "\n",
    "df_base_llama2[['gen_sbom_noprompt', 'gen_sbom2_noprompt']] = df_base_llama2[['generated_sbom', 'generated_sbom2']].applymap(extract_json_sbom)\n"
   ]
  },
  {
   "cell_type": "code",
   "execution_count": 16,
   "metadata": {},
   "outputs": [
    {
     "name": "stdout",
     "output_type": "stream",
     "text": [
      "Number of rows with 'JSON structure not found': 532\n"
     ]
    }
   ],
   "source": [
    "# Count the rows where 'gen_sbom_noprompt' has the value 'JSON structure not found'\n",
    "not_found_count = (df_base_llama2['gen_sbom2_noprompt'] == 'JSON structure not found').sum()\n",
    "\n",
    "print(f\"Number of rows with 'JSON structure not found': {not_found_count}\")"
   ]
  },
  {
   "cell_type": "code",
   "execution_count": 7,
   "metadata": {},
   "outputs": [
    {
     "name": "stdout",
     "output_type": "stream",
     "text": [
      "[INST] Given a target manifest file, construct the corresponding SPDX SBOM in .json format.\n",
      "\n",
      "### Target manifest:\n",
      "Org: wongkinyiu\n",
      "Repo: yolor\n",
      "downloadLocation: git+https://github.com/WongKinYiu/yolor\n",
      "licenseDeclared: GPL-3.0\n",
      "Dependancies:\n",
      "thop\n",
      "pycocotools==2.0\n",
      "Cython\n",
      "matplotlib>=3.2.2\n",
      "numpy>=1.18.5\n",
      "opencv-python>=4.1.2\n",
      "Pillow\n",
      "PyYAML>=5.3.1\n",
      "scipy>=1.4.1\n",
      "tensorboard>=1.5\n",
      "torch==1.7.0\n",
      "torchvision==0.8.1\n",
      "tqdm>=4.41.0\n",
      "seaborn>=0.11.0\n",
      "pandas\n",
      "\n",
      "\n",
      "### SPDX SBOM:\n",
      " [/INST] \n",
      "\n",
      "package org.springframework.samples.petclinic.web.controllers;\n",
      "\n",
      "import java.util.ArrayList;\n",
      "import java.util.List;\n",
      "import java.util.logging.Logger;\n",
      "\n",
      "import org.springframework.beans.factory.annotation.Autowired;\n",
      "import org.springframework.samples.petclinic.model.Animal;\n",
      "import org.springframework.samples.petclinic.model.Clinic;\n",
      "import org.springframework.samples.petclinic.model.Owner;\n",
      "import org.springframework.samples.petclinic.model.Pet;\n",
      "import org.springframework.samples.petclinic.model.PetType;\n",
      "import org.springframework.samples.petclinic.model.Visit;\n",
      "import org.springframework.samples.petclinic.model.VisitType;\n",
      "import org.springframework.samples.petclinic.model.Vet;\n",
      "import org.springframework.samples.petclinic.model.VetType;\n",
      "import org.springframework.samples.petclinic.service.AnimalService;\n",
      "import org.springframework.samples.petclinic.service.ClinicService;\n",
      "import org.springframework.samples.petclinic.service.OwnerService;\n",
      "import org.springframework.samples.petclinic.service.PetService;\n",
      "import org.springframework.samples.petclinic.service.PetTypeService;\n",
      "import org.springframework.samples.petclinic.service.VetService;\n",
      "import org.springframework.samples.petclinic.service.VisitService;\n",
      "import org.springframework.samples.petclinic.service.VisitTypeService;\n",
      "import org.springframework.samples.petclinic.service.VetTypeService;\n",
      "import org.springframework.samples.petclinic.web.pages.Page;\n",
      "import org.springframework.stereotype.Controller;\n",
      "import org.springframework.ui.Model;\n",
      "import org.springframework.web.bind.annotation.RequestMapping;\n",
      "import org.springframework.web.bind.annotation.RequestMethod;\n",
      "import org.springframework.web.bind.annotation.ResponseBody;\n",
      "\n",
      "@Controller\n",
      "public class VisitController {\n",
      "\n",
      "    private static final Logger logger = Logger.getLogger(VisitController.class.getName());\n",
      "\n",
      "    @Autowired\n",
      "    private VisitService visitService;\n",
      "\n",
      "    @Autowired\n",
      "    private PetService petService;\n",
      "\n",
      "    @Autowired\n",
      "    private VisitTypeService visitTypeService;\n",
      "\n",
      "    @Autowired\n",
      "    private PetTypeService petTypeService;\n",
      "\n",
      "    @Autowired\n",
      "    private VetService vetService;\n",
      "\n",
      "    @Autowired\n",
      "    private VetTypeService vetTypeService;\n",
      "\n",
      "    @Autowired\n",
      "    private ClinicService clinicService;\n",
      "\n",
      "    @Autowired\n",
      "    private OwnerService ownerService;\n",
      "\n",
      "    @Autowired\n",
      "    private AnimalService animalService;\n",
      "\n",
      "    @RequestMapping(value = \"/visit\", method = RequestMethod.GET)\n",
      "    public String visit(Model model) {\n",
      "        List<Visit> visits = visitService.findAll();\n",
      "        List<Clinic> clinics = clinicService.findAll();\n",
      "        List<PetType> petTypes = petTypeService.findAll();\n",
      "        List<VetType> vetTypes = vetTypeService.findAll();\n",
      "        List<Owner> owners = ownerService.findAll();\n",
      "        List<Vet> vets = vetService.findAll();\n",
      "        List<Animal> animals = animalService.findAll();\n",
      "\n",
      "        model.addAttribute(\"visits\", visits);\n",
      "        model.addAttribute(\"clinics\", clinics);\n",
      "        model.addAttribute(\"petTypes\", petTypes);\n",
      "        model.addAttribute(\"vetTypes\", vetTypes);\n",
      "        model.addAttribute(\"owners\", owners);\n",
      "        model.addAttribute(\"vets\", vets);\n",
      "        model.addAttribute(\"animals\", animals);\n",
      "        return \"visit\";\n",
      "    }\n",
      "\n",
      "    @RequestMapping(value = \"/visit\", method = RequestMethod.POST)\n",
      "    public String visit(Model model) {\n",
      "        model.addAttribute(\"visits\", visitService.findAll());\n",
      "        model.addAttribute(\"clinics\", clinicService.findAll());\n",
      "        model.addAttribute(\"petTypes\", petTypeService.findAll());\n",
      "        model.addAttribute(\"vetTypes\", vetTypeService.findAll());\n",
      "        model.addAttribute(\"owners\", ownerService.findAll());\n",
      "        model.addAttribute(\"vets\", vetService.findAll());\n",
      "        model.addAttribute(\"animals\", animalService.findAll());\n",
      "        return \"visit\";\n",
      "    }\n",
      "\n",
      "    @RequestMapping(value = \"/visit/new\", method = RequestMethod.POST)\n",
      "    @ResponseBody\n",
      "    public List<Visit> saveVisit(Visit visit) {\n",
      "        List<Visit> visits = visitService.saveVisit(visit);\n",
      "        return visits;\n",
      "    }\n",
      "\n",
      "    @RequestMapping(value = \"/visit/edit\", method = RequestMethod.POST)\n",
      "    @ResponseBody\n",
      "    public List<Visit> saveVisit(Visit visit) {\n",
      "        List<Visit> visits = visitService.saveVisit(visit);\n",
      "        return visits;\n",
      "    }\n",
      "\n",
      "    @RequestMapping(value = \"/visit/delete\", method = RequestMethod.POST)\n",
      "    @ResponseBody\n",
      "    public List<Visit> deleteVisit(Visit visit) {\n",
      "        List<Visit> visits = visitService.deleteVisit(visit);\n",
      "        return visits;\n",
      "    }\n",
      "\n",
      "    @RequestMapping(value = \"/visit/find/{id}\", method = RequestMethod.GET)\n",
      "    public Visit findVisit(@PathVariable(\"id\") Long id) {\n",
      "        Visit visit = visitService.findVisit(id);\n",
      "        return visit;\n",
      "    }\n",
      "\n",
      "    @RequestMapping(value = \"/visit/findAll\", method = RequestMethod.GET)\n",
      "\n"
     ]
    }
   ],
   "source": [
    "print(df_base_llama2.iloc[34]['generated_sbom2'])"
   ]
  }
 ],
 "metadata": {
  "kernelspec": {
   "display_name": "sme_project",
   "language": "python",
   "name": "python3"
  },
  "language_info": {
   "codemirror_mode": {
    "name": "ipython",
    "version": 3
   },
   "file_extension": ".py",
   "mimetype": "text/x-python",
   "name": "python",
   "nbconvert_exporter": "python",
   "pygments_lexer": "ipython3",
   "version": "3.11.5"
  }
 },
 "nbformat": 4,
 "nbformat_minor": 2
}
