{
 "cells": [
  {
   "cell_type": "code",
   "execution_count": 9,
   "metadata": {},
   "outputs": [],
   "source": [
    "from datasets import load_from_disk\n",
    "\n",
    "# Load the dataset from the directory where you saved it\n",
    "dataset_dict = load_from_disk('/home/grenders95/710/710_project/data/training/hf_datasets/newreqs_clearedfields')\n",
    "\n",
    "# Access the individual splits from the loaded DatasetDict\n",
    "train_dataset = dataset_dict['train']\n",
    "eval_dataset = dataset_dict['validation']\n",
    "test_dataset = dataset_dict['test']"
   ]
  },
  {
   "cell_type": "code",
   "execution_count": 3,
   "metadata": {},
   "outputs": [
    {
     "name": "stdout",
     "output_type": "stream",
     "text": [
      "Entries with 0 dependencies in training set: 17\n",
      "Entries with 0 dependencies in validation set: 3\n",
      "Entries with 0 dependencies in test set: 4\n"
     ]
    }
   ],
   "source": [
    "# Count the number of entries with 0 dependencies in each dataset split\n",
    "train_zeros = sum(1 for x in train_dataset if x['num_dependencies'] == 0)\n",
    "eval_zeros = sum(1 for x in eval_dataset if x['num_dependencies'] == 0)\n",
    "test_zeros = sum(1 for x in test_dataset if x['num_dependencies'] == 0)\n",
    "\n",
    "print(f\"Entries with 0 dependencies in training set: {train_zeros}\")\n",
    "print(f\"Entries with 0 dependencies in validation set: {eval_zeros}\")\n",
    "print(f\"Entries with 0 dependencies in test set: {test_zeros}\")\n"
   ]
  },
  {
   "cell_type": "code",
   "execution_count": 4,
   "metadata": {},
   "outputs": [
    {
     "name": "stdout",
     "output_type": "stream",
     "text": [
      "Entries with 1 package in training set: 9\n",
      "Entries with 1 package in validation set: 1\n",
      "Entries with 1 package in test set: 5\n"
     ]
    }
   ],
   "source": [
    "import json\n",
    "\n",
    "def count_one_package_entries(dataset):\n",
    "    count = 0\n",
    "    for entry in dataset:\n",
    "        sbom_data = json.loads(entry['sbom'])\n",
    "        if len(sbom_data.get('packages', [])) == 1:\n",
    "            count += 1\n",
    "    return count\n",
    "\n",
    "# Count entries with only 1 package in each dataset split\n",
    "train_count = count_one_package_entries(train_dataset)\n",
    "validation_count = count_one_package_entries(eval_dataset)\n",
    "test_count = count_one_package_entries(test_dataset)\n",
    "\n",
    "print(f\"Entries with 1 package in training set: {train_count}\")\n",
    "print(f\"Entries with 1 package in validation set: {validation_count}\")\n",
    "print(f\"Entries with 1 package in test set: {test_count}\")"
   ]
  }
 ],
 "metadata": {
  "kernelspec": {
   "display_name": "sme_model",
   "language": "python",
   "name": "python3"
  },
  "language_info": {
   "codemirror_mode": {
    "name": "ipython",
    "version": 3
   },
   "file_extension": ".py",
   "mimetype": "text/x-python",
   "name": "python",
   "nbconvert_exporter": "python",
   "pygments_lexer": "ipython3",
   "version": "3.10.13"
  }
 },
 "nbformat": 4,
 "nbformat_minor": 2
}
