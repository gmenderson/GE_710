{
 "cells": [
  {
   "cell_type": "code",
   "execution_count": 1,
   "metadata": {},
   "outputs": [],
   "source": [
    "from datasets import load_from_disk\n",
    "\n",
    "# Load the dataset\n",
    "dataset_dict = load_from_disk('/home/grenders95/710/710_project/data/training/hf_datasets/newreqs_clearedfields')\n",
    "\n",
    "# Access the individual splits from the loaded DatasetDict\n",
    "train_dataset = dataset_dict['train']\n",
    "eval_dataset = dataset_dict['validation']\n",
    "test_dataset = dataset_dict['test']"
   ]
  },
  {
   "cell_type": "code",
   "execution_count": 5,
   "metadata": {},
   "outputs": [
    {
     "name": "stdout",
     "output_type": "stream",
     "text": [
      "Dataset({\n",
      "    features: ['org_repo_name', 'requirements', 'sbom', 'mod_manifest_newreqs', 'num_dependencies', 'sbom_data_cleared', '__index_level_0__'],\n",
      "    num_rows: 1822\n",
      "})\n",
      "Dataset({\n",
      "    features: ['org_repo_name', 'requirements', 'sbom', 'mod_manifest_newreqs', 'num_dependencies', 'sbom_data_cleared', '__index_level_0__'],\n",
      "    num_rows: 304\n",
      "})\n",
      "Dataset({\n",
      "    features: ['org_repo_name', 'requirements', 'sbom', 'mod_manifest_newreqs', 'num_dependencies', 'sbom_data_cleared', '__index_level_0__'],\n",
      "    num_rows: 532\n",
      "})\n"
     ]
    }
   ],
   "source": [
    "print(train_dataset)\n",
    "print(eval_dataset)\n",
    "print(test_dataset)"
   ]
  },
  {
   "cell_type": "code",
   "execution_count": 2,
   "metadata": {},
   "outputs": [
    {
     "ename": "KeyboardInterrupt",
     "evalue": "",
     "output_type": "error",
     "traceback": [
      "\u001b[0;31m---------------------------------------------------------------------------\u001b[0m",
      "\u001b[0;31mKeyboardInterrupt\u001b[0m                         Traceback (most recent call last)",
      "Cell \u001b[0;32mIn[2], line 1\u001b[0m\n\u001b[0;32m----> 1\u001b[0m \u001b[38;5;28;01mimport\u001b[39;00m \u001b[38;5;21;01mtorch\u001b[39;00m\n\u001b[1;32m      2\u001b[0m \u001b[38;5;28;01mfrom\u001b[39;00m \u001b[38;5;21;01mtransformers\u001b[39;00m \u001b[38;5;28;01mimport\u001b[39;00m AutoTokenizer, AutoModelForCausalLM, BitsAndBytesConfig\n\u001b[1;32m      4\u001b[0m base_model_id \u001b[38;5;241m=\u001b[39m \u001b[38;5;124m\"\u001b[39m\u001b[38;5;124mcodellama/CodeLlama-7b-hf\u001b[39m\u001b[38;5;124m\"\u001b[39m\n",
      "File \u001b[0;32m~/miniconda3/envs/sme_project/lib/python3.11/site-packages/torch/__init__.py:1451\u001b[0m\n\u001b[1;32m   1449\u001b[0m \u001b[38;5;28;01mfrom\u001b[39;00m \u001b[38;5;21;01mtorch\u001b[39;00m \u001b[38;5;28;01mimport\u001b[39;00m ao \u001b[38;5;28;01mas\u001b[39;00m ao\n\u001b[1;32m   1450\u001b[0m \u001b[38;5;66;03m# nn.quant* depends on ao -- so should be after those.\u001b[39;00m\n\u001b[0;32m-> 1451\u001b[0m \u001b[38;5;28;01mimport\u001b[39;00m \u001b[38;5;21;01mtorch\u001b[39;00m\u001b[38;5;21;01m.\u001b[39;00m\u001b[38;5;21;01mnn\u001b[39;00m\u001b[38;5;21;01m.\u001b[39;00m\u001b[38;5;21;01mquantizable\u001b[39;00m\n\u001b[1;32m   1452\u001b[0m \u001b[38;5;28;01mimport\u001b[39;00m \u001b[38;5;21;01mtorch\u001b[39;00m\u001b[38;5;21;01m.\u001b[39;00m\u001b[38;5;21;01mnn\u001b[39;00m\u001b[38;5;21;01m.\u001b[39;00m\u001b[38;5;21;01mquantized\u001b[39;00m\n\u001b[1;32m   1453\u001b[0m \u001b[38;5;28;01mimport\u001b[39;00m \u001b[38;5;21;01mtorch\u001b[39;00m\u001b[38;5;21;01m.\u001b[39;00m\u001b[38;5;21;01mnn\u001b[39;00m\u001b[38;5;21;01m.\u001b[39;00m\u001b[38;5;21;01mqat\u001b[39;00m\n",
      "File \u001b[0;32m~/miniconda3/envs/sme_project/lib/python3.11/site-packages/torch/nn/quantizable/__init__.py:1\u001b[0m\n\u001b[0;32m----> 1\u001b[0m \u001b[38;5;28;01mfrom\u001b[39;00m \u001b[38;5;21;01m.\u001b[39;00m\u001b[38;5;21;01mmodules\u001b[39;00m \u001b[38;5;28;01mimport\u001b[39;00m \u001b[38;5;241m*\u001b[39m  \u001b[38;5;66;03m# noqa: F403\u001b[39;00m\n",
      "File \u001b[0;32m~/miniconda3/envs/sme_project/lib/python3.11/site-packages/torch/nn/quantizable/modules/__init__.py:1\u001b[0m\n\u001b[0;32m----> 1\u001b[0m \u001b[38;5;28;01mfrom\u001b[39;00m \u001b[38;5;21;01mtorch\u001b[39;00m\u001b[38;5;21;01m.\u001b[39;00m\u001b[38;5;21;01mao\u001b[39;00m\u001b[38;5;21;01m.\u001b[39;00m\u001b[38;5;21;01mnn\u001b[39;00m\u001b[38;5;21;01m.\u001b[39;00m\u001b[38;5;21;01mquantizable\u001b[39;00m\u001b[38;5;21;01m.\u001b[39;00m\u001b[38;5;21;01mmodules\u001b[39;00m\u001b[38;5;21;01m.\u001b[39;00m\u001b[38;5;21;01mactivation\u001b[39;00m \u001b[38;5;28;01mimport\u001b[39;00m MultiheadAttention\n\u001b[1;32m      2\u001b[0m \u001b[38;5;28;01mfrom\u001b[39;00m \u001b[38;5;21;01mtorch\u001b[39;00m\u001b[38;5;21;01m.\u001b[39;00m\u001b[38;5;21;01mao\u001b[39;00m\u001b[38;5;21;01m.\u001b[39;00m\u001b[38;5;21;01mnn\u001b[39;00m\u001b[38;5;21;01m.\u001b[39;00m\u001b[38;5;21;01mquantizable\u001b[39;00m\u001b[38;5;21;01m.\u001b[39;00m\u001b[38;5;21;01mmodules\u001b[39;00m\u001b[38;5;21;01m.\u001b[39;00m\u001b[38;5;21;01mrnn\u001b[39;00m \u001b[38;5;28;01mimport\u001b[39;00m LSTM\n\u001b[1;32m      3\u001b[0m \u001b[38;5;28;01mfrom\u001b[39;00m \u001b[38;5;21;01mtorch\u001b[39;00m\u001b[38;5;21;01m.\u001b[39;00m\u001b[38;5;21;01mao\u001b[39;00m\u001b[38;5;21;01m.\u001b[39;00m\u001b[38;5;21;01mnn\u001b[39;00m\u001b[38;5;21;01m.\u001b[39;00m\u001b[38;5;21;01mquantizable\u001b[39;00m\u001b[38;5;21;01m.\u001b[39;00m\u001b[38;5;21;01mmodules\u001b[39;00m\u001b[38;5;21;01m.\u001b[39;00m\u001b[38;5;21;01mrnn\u001b[39;00m \u001b[38;5;28;01mimport\u001b[39;00m LSTMCell\n",
      "File \u001b[0;32m~/miniconda3/envs/sme_project/lib/python3.11/site-packages/torch/ao/nn/quantizable/__init__.py:1\u001b[0m\n\u001b[0;32m----> 1\u001b[0m \u001b[38;5;28;01mfrom\u001b[39;00m \u001b[38;5;21;01m.\u001b[39;00m\u001b[38;5;21;01mmodules\u001b[39;00m \u001b[38;5;28;01mimport\u001b[39;00m \u001b[38;5;241m*\u001b[39m  \u001b[38;5;66;03m# noqa: F403\u001b[39;00m\n",
      "File \u001b[0;32m~/miniconda3/envs/sme_project/lib/python3.11/site-packages/torch/ao/nn/quantizable/modules/__init__.py:2\u001b[0m\n\u001b[1;32m      1\u001b[0m \u001b[38;5;28;01mfrom\u001b[39;00m \u001b[38;5;21;01m.\u001b[39;00m\u001b[38;5;21;01mactivation\u001b[39;00m \u001b[38;5;28;01mimport\u001b[39;00m MultiheadAttention\n\u001b[0;32m----> 2\u001b[0m \u001b[38;5;28;01mfrom\u001b[39;00m \u001b[38;5;21;01m.\u001b[39;00m\u001b[38;5;21;01mrnn\u001b[39;00m \u001b[38;5;28;01mimport\u001b[39;00m LSTM\n\u001b[1;32m      3\u001b[0m \u001b[38;5;28;01mfrom\u001b[39;00m \u001b[38;5;21;01m.\u001b[39;00m\u001b[38;5;21;01mrnn\u001b[39;00m \u001b[38;5;28;01mimport\u001b[39;00m LSTMCell\n\u001b[1;32m      5\u001b[0m __all__ \u001b[38;5;241m=\u001b[39m [\n\u001b[1;32m      6\u001b[0m     \u001b[38;5;124m'\u001b[39m\u001b[38;5;124mLSTM\u001b[39m\u001b[38;5;124m'\u001b[39m,\n\u001b[1;32m      7\u001b[0m     \u001b[38;5;124m'\u001b[39m\u001b[38;5;124mLSTMCell\u001b[39m\u001b[38;5;124m'\u001b[39m,\n\u001b[1;32m      8\u001b[0m     \u001b[38;5;124m'\u001b[39m\u001b[38;5;124mMultiheadAttention\u001b[39m\u001b[38;5;124m'\u001b[39m,\n\u001b[1;32m      9\u001b[0m ]\n",
      "File \u001b[0;32m<frozen importlib._bootstrap>:1176\u001b[0m, in \u001b[0;36m_find_and_load\u001b[0;34m(name, import_)\u001b[0m\n",
      "File \u001b[0;32m<frozen importlib._bootstrap>:1147\u001b[0m, in \u001b[0;36m_find_and_load_unlocked\u001b[0;34m(name, import_)\u001b[0m\n",
      "File \u001b[0;32m<frozen importlib._bootstrap>:690\u001b[0m, in \u001b[0;36m_load_unlocked\u001b[0;34m(spec)\u001b[0m\n",
      "File \u001b[0;32m<frozen importlib._bootstrap_external>:936\u001b[0m, in \u001b[0;36mexec_module\u001b[0;34m(self, module)\u001b[0m\n",
      "File \u001b[0;32m<frozen importlib._bootstrap_external>:1032\u001b[0m, in \u001b[0;36mget_code\u001b[0;34m(self, fullname)\u001b[0m\n",
      "File \u001b[0;32m<frozen importlib._bootstrap_external>:1131\u001b[0m, in \u001b[0;36mget_data\u001b[0;34m(self, path)\u001b[0m\n",
      "\u001b[0;31mKeyboardInterrupt\u001b[0m: "
     ]
    }
   ],
   "source": [
    "# Model info for tokenizer\n",
    "\n",
    "import torch\n",
    "from transformers import AutoTokenizer, AutoModelForCausalLM, BitsAndBytesConfig\n",
    "\n",
    "base_model_id = \"codellama/CodeLlama-7b-hf\"\n",
    "bnb_config = BitsAndBytesConfig(\n",
    "    load_in_4bit=True,\n",
    "    bnb_4bit_use_double_quant=True,\n",
    "    bnb_4bit_quant_type=\"nf4\",\n",
    "    bnb_4bit_compute_dtype=torch.bfloat16\n",
    ")\n",
    "\n",
    "model = AutoModelForCausalLM.from_pretrained(base_model_id, quantization_config=bnb_config, device_map={\"\": \"cuda\"})\n"
   ]
  },
  {
   "cell_type": "code",
   "execution_count": 6,
   "metadata": {},
   "outputs": [],
   "source": [
    "tokenizer = AutoTokenizer.from_pretrained(\n",
    "    base_model_id,\n",
    "    add_eos_token=True,\n",
    "    add_bos_token=True, \n",
    ")"
   ]
  },
  {
   "cell_type": "code",
   "execution_count": 7,
   "metadata": {},
   "outputs": [],
   "source": [
    "def tokenize(prompt):\n",
    "    result = tokenizer(prompt)\n",
    "    result[\"labels\"] = result[\"input_ids\"].copy()\n",
    "    return result"
   ]
  },
  {
   "cell_type": "code",
   "execution_count": 8,
   "metadata": {},
   "outputs": [],
   "source": [
    "def generate_and_tokenize_full_prompt(data_point):\n",
    "    # Constructing the instruction to include the target manifest directly\n",
    "    instruction = f\"The following is a target manifest file that describes properties and dependencies of a python repository:\\n\\n### Target manifest:\\n{data_point['mod_manifest_newreqs']}\\n\\nCreate an SPDX SBOM based on the target manifest.\\n\\n### SPDX SBOM:\"\n",
    "    \n",
    "    # Wrapping the complete instruction with CodeLlama's prompt format\n",
    "    codellama_instruction = f\"<s>[INST] {instruction} [/INST]</s>\"\n",
    "    \n",
    "    full_prompt = f\"\"\"{codellama_instruction}\n",
    "\n",
    "{data_point[\"sbom_data_cleared\"]}\n",
    "\"\"\"\n",
    "    return tokenize(full_prompt)\n"
   ]
  },
  {
   "cell_type": "code",
   "execution_count": 9,
   "metadata": {},
   "outputs": [],
   "source": [
    "def generate_and_tokenize_prompt(data_point):\n",
    "    # Constructing the instruction to include the target manifest directly\n",
    "    instruction = f\"The following is a target manifest file that describes properties and dependencies of a python repository:\\n\\n### Target manifest:\\n{data_point['mod_manifest_newreqs']}\\n\\nCreate an SPDX SBOM based on the target manifest.\\n\\n### SPDX SBOM:\"\n",
    "    \n",
    "    # Wrapping the complete instruction with CodeLlama's prompt format\n",
    "    codellama_instruction = f\"<s>[INST] {instruction} [/INST]</s>\"\n",
    "    \n",
    "    prompt = f\"\"\"{codellama_instruction}\n",
    "\n",
    "\"\"\"\n",
    "    return tokenize(prompt)"
   ]
  },
  {
   "cell_type": "code",
   "execution_count": 10,
   "metadata": {},
   "outputs": [],
   "source": [
    "# Tokenize test set for training and inference prompts\n",
    "tokenize_full_prompt_test = test_dataset.map(generate_and_tokenize_full_prompt)\n",
    "tokenize_prompt_test = test_dataset.map(generate_and_tokenize_prompt)"
   ]
  },
  {
   "cell_type": "code",
   "execution_count": 3,
   "metadata": {},
   "outputs": [],
   "source": [
    "import matplotlib.pyplot as plt\n",
    "import os\n",
    "\n",
    "def plot_data_lengths(tokenized_dataset, output_dir, filename):\n",
    "    lengths = [(x['input_ids'], x['org_repo_name']) for x in tokenized_dataset]\n",
    "    \n",
    "    lengths.sort(key=lambda x: len(x[0]), reverse=True)\n",
    "\n",
    "    # Calculate average length\n",
    "    avg_length = sum(len(x[0]) for x in lengths) / len(lengths)\n",
    "    print(\"Average Length:\", avg_length)\n",
    "\n",
    "    print(\"Organization Names of the Three Highest Length Input IDs:\")\n",
    "    for i in range(3):\n",
    "        print(f\"{i+1}. {lengths[i][1]}\")\n",
    "\n",
    "    # Plotting the histogram\n",
    "    plt.figure(figsize=(10, 6))\n",
    "    plt.hist([len(x[0]) for x in lengths], bins=20, alpha=0.7, color='blue')\n",
    "    plt.xlabel('Length of input_ids')\n",
    "    plt.ylabel('Frequency')\n",
    "    plt.title('Distribution of Lengths of input_ids')\n",
    "    plt.axvline(avg_length, color='red', linestyle='dashed', linewidth=1, label=f'Average Length: {avg_length:.2f}')\n",
    "    plt.legend()\n",
    "\n",
    "    # Ensure the output directory exists\n",
    "    if not os.path.exists(output_dir):\n",
    "        os.makedirs(output_dir)\n",
    "    \n",
    "    # Save the figure with the specified filename to the output directory\n",
    "    full_path = os.path.join(output_dir, filename)\n",
    "    plt.savefig(full_path)\n",
    "    plt.close() \n"
   ]
  },
  {
   "cell_type": "code",
   "execution_count": 14,
   "metadata": {},
   "outputs": [
    {
     "name": "stdout",
     "output_type": "stream",
     "text": [
      "Average Length: 5540.571428571428\n",
      "Organization Names of the Three Highest Length Input IDs:\n",
      "1. galaxyproject_galaxy\n",
      "2. pymedusa_medusa\n",
      "3. mage-ai_mage-ai\n"
     ]
    }
   ],
   "source": [
    "plot_data_lengths(tokenize_full_prompt_test, '/home/grenders95/710/710_project/data/eval', 'newreqsfull_trainprompt_token_testset.png')"
   ]
  },
  {
   "cell_type": "code",
   "execution_count": 15,
   "metadata": {},
   "outputs": [
    {
     "name": "stdout",
     "output_type": "stream",
     "text": [
      "Average Length: 256.2142857142857\n",
      "Organization Names of the Three Highest Length Input IDs:\n",
      "1. galaxyproject_galaxy\n",
      "2. h2oai_h2o-llmstudio\n",
      "3. mage-ai_mage-ai\n"
     ]
    }
   ],
   "source": [
    "plot_data_lengths(tokenize_prompt_test, '/home/grenders95/710/710_project/data/eval', 'newreqs_testprompt_testset_tokens.png')"
   ]
  },
  {
   "cell_type": "code",
   "execution_count": 4,
   "metadata": {},
   "outputs": [
    {
     "name": "stderr",
     "output_type": "stream",
     "text": [
      "/home/grenders95/miniconda3/envs/sme_project/lib/python3.11/site-packages/datasets/table.py:1421: FutureWarning: promote has been superseded by mode='default'.\n",
      "  table = cls._concat_blocks(blocks, axis=0)\n"
     ]
    },
    {
     "data": {
      "image/png": "[encoded data removed]",
      "text/plain": [
       "<Figure size 1200x600 with 1 Axes>"
      ]
     },
     "metadata": {},
     "output_type": "display_data"
    }
   ],
   "source": [
    "from datasets import concatenate_datasets\n",
    "import numpy as np\n",
    "import matplotlib.pyplot as plt\n",
    "from scipy.stats import percentileofscore\n",
    "import matplotlib.gridspec as gridspec\n",
    "\n",
    "all_datasets = concatenate_datasets([train_dataset, eval_dataset, test_dataset])\n",
    "num_dependencies = np.array(all_datasets['num_dependencies'])  \n",
    "\n",
    "# Compute statistics\n",
    "mean = np.mean(num_dependencies)\n",
    "median = np.median(num_dependencies)\n",
    "mode = int(np.bincount(num_dependencies).argmax())\n",
    "q1 = np.percentile(num_dependencies, 25)\n",
    "q3 = np.percentile(num_dependencies, 75)\n",
    "min_value = np.min(num_dependencies)\n",
    "max_value = np.max(num_dependencies)\n",
    "\n",
    "# Calculate the Interquartile Range (IQR) to determine non-outlier range\n",
    "iqr = q3 - q1\n",
    "upper_bound = q3 + (1.5 * iqr)\n",
    "non_outlier_max = max([x for x in num_dependencies if x <= upper_bound])\n",
    "\n",
    "# Calculate the percentile of the maximum non-outlier value\n",
    "percentile_non_outlier_max = percentileofscore(num_dependencies, non_outlier_max)\n",
    "\n",
    "# Create a figure with custom size & layout\n",
    "fig = plt.figure(figsize=(12, 6))\n",
    "gs = gridspec.GridSpec(1, 2, width_ratios=[5, 2])\n",
    "\n",
    "ax1 = plt.subplot(gs[0])\n",
    "ax1.boxplot(num_dependencies, vert=False, patch_artist=True)\n",
    "ax1.set_xscale('log')\n",
    "ax1.get_xaxis().set_major_formatter(plt.ScalarFormatter())\n",
    "\n",
    "ax1.set_xlabel(\"Number of Dependencies\")\n",
    "\n",
    "plt.tight_layout()\n",
    "plt.show()\n"
   ]
  },
  {
   "cell_type": "code",
   "execution_count": 8,
   "metadata": {},
   "outputs": [],
   "source": [
    "import numpy as np\n",
    "\n",
    "def create_varied_subset(tokenized_dataset, num_samples=25):\n",
    "    filtered_dataset = [\n",
    "        x for x in tokenized_dataset \n",
    "        if x['requirements'] is not None and 'torch' not in x['requirements']\n",
    "    ]\n",
    "    \n",
    "    dependencies = np.array([x['num_dependencies'] for x in filtered_dataset])\n",
    "    \n",
    "    # Calculate quartiles\n",
    "    q1 = np.percentile(dependencies, 25)\n",
    "    q2 = np.percentile(dependencies, 50)\n",
    "    q3 = np.percentile(dependencies, 75)\n",
    "    \n",
    "    # Divide the dataset into quartiles\n",
    "    first_quartile_indices = np.where(dependencies <= q1)[0]\n",
    "    second_quartile_indices = np.where((dependencies > q1) & (dependencies <= q2))[0]\n",
    "    third_quartile_indices = np.where((dependencies > q2) & (dependencies <= q3))[0]\n",
    "    fourth_quartile_indices = np.where(dependencies > q3)[0]\n",
    "    \n",
    "    samples_per_quartile = num_samples // 4\n",
    "    remainder = num_samples % 4\n",
    "    \n",
    "    safe_sample_indices = lambda indices, n: np.random.choice(indices, min(len(indices), n), replace=False) if len(indices) > 0 else np.array([])\n",
    "    \n",
    "    selected_indices = np.concatenate([\n",
    "        safe_sample_indices(first_quartile_indices, samples_per_quartile + (1 if remainder > 0 else 0)),\n",
    "        safe_sample_indices(second_quartile_indices, samples_per_quartile + (1 if remainder > 1 else 0)),\n",
    "        safe_sample_indices(third_quartile_indices, samples_per_quartile + (1 if remainder > 2 else 0)),\n",
    "        safe_sample_indices(fourth_quartile_indices, samples_per_quartile),\n",
    "    ])\n",
    "    \n",
    "    np.random.shuffle(selected_indices)\n",
    "    \n",
    "    selected_indices = selected_indices.tolist()\n",
    "    \n",
    "    varied_subset = [filtered_dataset[i] for i in selected_indices]\n",
    "    \n",
    "    return varied_subset"
   ]
  },
  {
   "cell_type": "code",
   "execution_count": 9,
   "metadata": {},
   "outputs": [],
   "source": [
    "varied_subset = create_varied_subset(test_dataset, 25)"
   ]
  },
  {
   "cell_type": "code",
   "execution_count": 10,
   "metadata": {},
   "outputs": [],
   "source": [
    "import pandas as pd\n",
    "df = pd.DataFrame(varied_subset)\n",
    "\n",
    "# Save the DataFrame as a CSV file\n",
    "csv_filename = '/home/grenders95/710/710_project/data/eval/repos_to_test_subset.csv'\n",
    "df.to_csv(csv_filename, index=False)"
   ]
  }
 ],
 "metadata": {
  "kernelspec": {
   "display_name": "sme_project",
   "language": "python",
   "name": "python3"
  },
  "language_info": {
   "codemirror_mode": {
    "name": "ipython",
    "version": 3
   },
   "file_extension": ".py",
   "mimetype": "text/x-python",
   "name": "python",
   "nbconvert_exporter": "python",
   "pygments_lexer": "ipython3",
   "version": "3.11.5"
  }
 },
 "nbformat": 4,
 "nbformat_minor": 2
}
